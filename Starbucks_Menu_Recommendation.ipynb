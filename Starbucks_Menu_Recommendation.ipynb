{
 "cells": [
  {
   "cell_type": "code",
   "execution_count": 134,
   "metadata": {},
   "outputs": [],
   "source": [
    "import pandas as pd\n",
    "import numpy as np\n",
    "import pickle\n",
    "from sklearn.cluster import KMeans\n",
    "from sklearn.preprocessing import LabelEncoder\n",
    "from sklearn.preprocessing import MinMaxScaler\n",
    "import pymongo\n",
    "import json\n",
    "# Import Splinter and BeautifulSoup\n",
    "from splinter import Browser\n",
    "from bs4 import BeautifulSoup\n",
    "from googlesearch import search "
   ]
  },
  {
   "cell_type": "code",
   "execution_count": 46,
   "metadata": {},
   "outputs": [
    {
     "data": {
      "text/html": [
       "<div>\n",
       "<style scoped>\n",
       "    .dataframe tbody tr th:only-of-type {\n",
       "        vertical-align: middle;\n",
       "    }\n",
       "\n",
       "    .dataframe tbody tr th {\n",
       "        vertical-align: top;\n",
       "    }\n",
       "\n",
       "    .dataframe thead th {\n",
       "        text-align: right;\n",
       "    }\n",
       "</style>\n",
       "<table border=\"1\" class=\"dataframe\">\n",
       "  <thead>\n",
       "    <tr style=\"text-align: right;\">\n",
       "      <th></th>\n",
       "      <th>Beverage_Id</th>\n",
       "      <th>Beverage</th>\n",
       "      <th>Type</th>\n",
       "      <th>Calories</th>\n",
       "      <th>Fat</th>\n",
       "      <th>Carbohydrate</th>\n",
       "      <th>Fibre</th>\n",
       "      <th>Sugar</th>\n",
       "      <th>Protein</th>\n",
       "      <th>Caffeine</th>\n",
       "    </tr>\n",
       "  </thead>\n",
       "  <tbody>\n",
       "    <tr>\n",
       "      <th>0</th>\n",
       "      <td>1</td>\n",
       "      <td>Brewed Coffee</td>\n",
       "      <td>Beverage</td>\n",
       "      <td>5</td>\n",
       "      <td>0.1</td>\n",
       "      <td>10</td>\n",
       "      <td>0</td>\n",
       "      <td>0</td>\n",
       "      <td>1.0</td>\n",
       "      <td>330</td>\n",
       "    </tr>\n",
       "    <tr>\n",
       "      <th>1</th>\n",
       "      <td>2</td>\n",
       "      <td>CaffA Latte</td>\n",
       "      <td>Beverage</td>\n",
       "      <td>190</td>\n",
       "      <td>7.0</td>\n",
       "      <td>170</td>\n",
       "      <td>0</td>\n",
       "      <td>17</td>\n",
       "      <td>12.0</td>\n",
       "      <td>150</td>\n",
       "    </tr>\n",
       "    <tr>\n",
       "      <th>2</th>\n",
       "      <td>3</td>\n",
       "      <td>CaffA Mocha (Without Whipped Cream)</td>\n",
       "      <td>Beverage</td>\n",
       "      <td>260</td>\n",
       "      <td>8.0</td>\n",
       "      <td>140</td>\n",
       "      <td>2</td>\n",
       "      <td>34</td>\n",
       "      <td>13.0</td>\n",
       "      <td>175</td>\n",
       "    </tr>\n",
       "    <tr>\n",
       "      <th>3</th>\n",
       "      <td>4</td>\n",
       "      <td>Vanilla Latte (Or Other Flavoured Latte)</td>\n",
       "      <td>Beverage</td>\n",
       "      <td>250</td>\n",
       "      <td>6.0</td>\n",
       "      <td>150</td>\n",
       "      <td>0</td>\n",
       "      <td>35</td>\n",
       "      <td>12.0</td>\n",
       "      <td>150</td>\n",
       "    </tr>\n",
       "    <tr>\n",
       "      <th>4</th>\n",
       "      <td>5</td>\n",
       "      <td>CaffA Americano</td>\n",
       "      <td>Beverage</td>\n",
       "      <td>15</td>\n",
       "      <td>0.0</td>\n",
       "      <td>15</td>\n",
       "      <td>0</td>\n",
       "      <td>0</td>\n",
       "      <td>1.0</td>\n",
       "      <td>225</td>\n",
       "    </tr>\n",
       "  </tbody>\n",
       "</table>\n",
       "</div>"
      ],
      "text/plain": [
       "   Beverage_Id                                  Beverage      Type  Calories  \\\n",
       "0            1                             Brewed Coffee  Beverage         5   \n",
       "1            2                               CaffA Latte  Beverage       190   \n",
       "2            3       CaffA Mocha (Without Whipped Cream)  Beverage       260   \n",
       "3            4  Vanilla Latte (Or Other Flavoured Latte)  Beverage       250   \n",
       "4            5                           CaffA Americano  Beverage        15   \n",
       "\n",
       "   Fat  Carbohydrate  Fibre  Sugar  Protein  Caffeine  \n",
       "0  0.1            10      0      0      1.0       330  \n",
       "1  7.0           170      0     17     12.0       150  \n",
       "2  8.0           140      2     34     13.0       175  \n",
       "3  6.0           150      0     35     12.0       150  \n",
       "4  0.0            15      0      0      1.0       225  "
      ]
     },
     "execution_count": 46,
     "metadata": {},
     "output_type": "execute_result"
    }
   ],
   "source": [
    "df = pd.read_csv('Resources/Starbucks_Menu.csv')\n",
    "df.head()"
   ]
  },
  {
   "cell_type": "code",
   "execution_count": 47,
   "metadata": {},
   "outputs": [
    {
     "data": {
      "text/html": [
       "<div>\n",
       "<style scoped>\n",
       "    .dataframe tbody tr th:only-of-type {\n",
       "        vertical-align: middle;\n",
       "    }\n",
       "\n",
       "    .dataframe tbody tr th {\n",
       "        vertical-align: top;\n",
       "    }\n",
       "\n",
       "    .dataframe thead th {\n",
       "        text-align: right;\n",
       "    }\n",
       "</style>\n",
       "<table border=\"1\" class=\"dataframe\">\n",
       "  <thead>\n",
       "    <tr style=\"text-align: right;\">\n",
       "      <th></th>\n",
       "      <th>Beverage_Id</th>\n",
       "      <th>Beverage</th>\n",
       "    </tr>\n",
       "  </thead>\n",
       "  <tbody>\n",
       "    <tr>\n",
       "      <th>0</th>\n",
       "      <td>1</td>\n",
       "      <td>Brewed Coffee</td>\n",
       "    </tr>\n",
       "    <tr>\n",
       "      <th>1</th>\n",
       "      <td>2</td>\n",
       "      <td>CaffA Latte</td>\n",
       "    </tr>\n",
       "    <tr>\n",
       "      <th>2</th>\n",
       "      <td>3</td>\n",
       "      <td>CaffA Mocha (Without Whipped Cream)</td>\n",
       "    </tr>\n",
       "    <tr>\n",
       "      <th>3</th>\n",
       "      <td>4</td>\n",
       "      <td>Vanilla Latte (Or Other Flavoured Latte)</td>\n",
       "    </tr>\n",
       "    <tr>\n",
       "      <th>4</th>\n",
       "      <td>5</td>\n",
       "      <td>CaffA Americano</td>\n",
       "    </tr>\n",
       "    <tr>\n",
       "      <th>5</th>\n",
       "      <td>6</td>\n",
       "      <td>Cappuccino</td>\n",
       "    </tr>\n",
       "    <tr>\n",
       "      <th>6</th>\n",
       "      <td>7</td>\n",
       "      <td>Espresso</td>\n",
       "    </tr>\n",
       "    <tr>\n",
       "      <th>7</th>\n",
       "      <td>8</td>\n",
       "      <td>Skinny Latte (Any Flavour)</td>\n",
       "    </tr>\n",
       "    <tr>\n",
       "      <th>8</th>\n",
       "      <td>9</td>\n",
       "      <td>Caramel Macchiato</td>\n",
       "    </tr>\n",
       "    <tr>\n",
       "      <th>9</th>\n",
       "      <td>10</td>\n",
       "      <td>White Chocolate Mocha (Without Whipped Cream)</td>\n",
       "    </tr>\n",
       "  </tbody>\n",
       "</table>\n",
       "</div>"
      ],
      "text/plain": [
       "   Beverage_Id                                       Beverage\n",
       "0            1                                  Brewed Coffee\n",
       "1            2                                    CaffA Latte\n",
       "2            3            CaffA Mocha (Without Whipped Cream)\n",
       "3            4       Vanilla Latte (Or Other Flavoured Latte)\n",
       "4            5                                CaffA Americano\n",
       "5            6                                     Cappuccino\n",
       "6            7                                       Espresso\n",
       "7            8                     Skinny Latte (Any Flavour)\n",
       "8            9                              Caramel Macchiato\n",
       "9           10  White Chocolate Mocha (Without Whipped Cream)"
      ]
     },
     "execution_count": 47,
     "metadata": {},
     "output_type": "execute_result"
    }
   ],
   "source": [
    "df_lkp = df[['Beverage_Id', 'Beverage']].copy()\n",
    "bev_lkp = df_lkp.to_numpy()\n",
    "df_lkp.head(10)"
   ]
  },
  {
   "cell_type": "code",
   "execution_count": 48,
   "metadata": {},
   "outputs": [
    {
     "data": {
      "text/html": [
       "<div>\n",
       "<style scoped>\n",
       "    .dataframe tbody tr th:only-of-type {\n",
       "        vertical-align: middle;\n",
       "    }\n",
       "\n",
       "    .dataframe tbody tr th {\n",
       "        vertical-align: top;\n",
       "    }\n",
       "\n",
       "    .dataframe thead th {\n",
       "        text-align: right;\n",
       "    }\n",
       "</style>\n",
       "<table border=\"1\" class=\"dataframe\">\n",
       "  <thead>\n",
       "    <tr style=\"text-align: right;\">\n",
       "      <th></th>\n",
       "      <th>Beverage_Id</th>\n",
       "      <th>Type</th>\n",
       "      <th>Calories</th>\n",
       "      <th>Fat</th>\n",
       "      <th>Carbohydrate</th>\n",
       "      <th>Fibre</th>\n",
       "      <th>Sugar</th>\n",
       "      <th>Protein</th>\n",
       "      <th>Caffeine</th>\n",
       "    </tr>\n",
       "  </thead>\n",
       "  <tbody>\n",
       "    <tr>\n",
       "      <th>0</th>\n",
       "      <td>1</td>\n",
       "      <td>Beverage</td>\n",
       "      <td>5</td>\n",
       "      <td>0.1</td>\n",
       "      <td>10</td>\n",
       "      <td>0</td>\n",
       "      <td>0</td>\n",
       "      <td>1.0</td>\n",
       "      <td>330</td>\n",
       "    </tr>\n",
       "    <tr>\n",
       "      <th>1</th>\n",
       "      <td>2</td>\n",
       "      <td>Beverage</td>\n",
       "      <td>190</td>\n",
       "      <td>7.0</td>\n",
       "      <td>170</td>\n",
       "      <td>0</td>\n",
       "      <td>17</td>\n",
       "      <td>12.0</td>\n",
       "      <td>150</td>\n",
       "    </tr>\n",
       "    <tr>\n",
       "      <th>2</th>\n",
       "      <td>3</td>\n",
       "      <td>Beverage</td>\n",
       "      <td>260</td>\n",
       "      <td>8.0</td>\n",
       "      <td>140</td>\n",
       "      <td>2</td>\n",
       "      <td>34</td>\n",
       "      <td>13.0</td>\n",
       "      <td>175</td>\n",
       "    </tr>\n",
       "    <tr>\n",
       "      <th>3</th>\n",
       "      <td>4</td>\n",
       "      <td>Beverage</td>\n",
       "      <td>250</td>\n",
       "      <td>6.0</td>\n",
       "      <td>150</td>\n",
       "      <td>0</td>\n",
       "      <td>35</td>\n",
       "      <td>12.0</td>\n",
       "      <td>150</td>\n",
       "    </tr>\n",
       "    <tr>\n",
       "      <th>4</th>\n",
       "      <td>5</td>\n",
       "      <td>Beverage</td>\n",
       "      <td>15</td>\n",
       "      <td>0.0</td>\n",
       "      <td>15</td>\n",
       "      <td>0</td>\n",
       "      <td>0</td>\n",
       "      <td>1.0</td>\n",
       "      <td>225</td>\n",
       "    </tr>\n",
       "  </tbody>\n",
       "</table>\n",
       "</div>"
      ],
      "text/plain": [
       "   Beverage_Id      Type  Calories  Fat  Carbohydrate  Fibre  Sugar  Protein  \\\n",
       "0            1  Beverage         5  0.1            10      0      0      1.0   \n",
       "1            2  Beverage       190  7.0           170      0     17     12.0   \n",
       "2            3  Beverage       260  8.0           140      2     34     13.0   \n",
       "3            4  Beverage       250  6.0           150      0     35     12.0   \n",
       "4            5  Beverage        15  0.0            15      0      0      1.0   \n",
       "\n",
       "   Caffeine  \n",
       "0       330  \n",
       "1       150  \n",
       "2       175  \n",
       "3       150  \n",
       "4       225  "
      ]
     },
     "execution_count": 48,
     "metadata": {},
     "output_type": "execute_result"
    }
   ],
   "source": [
    "df_new = df.drop(['Beverage'],axis =1)\n",
    "df_new.head()"
   ]
  },
  {
   "cell_type": "code",
   "execution_count": 49,
   "metadata": {},
   "outputs": [
    {
     "data": {
      "text/html": [
       "<div>\n",
       "<style scoped>\n",
       "    .dataframe tbody tr th:only-of-type {\n",
       "        vertical-align: middle;\n",
       "    }\n",
       "\n",
       "    .dataframe tbody tr th {\n",
       "        vertical-align: top;\n",
       "    }\n",
       "\n",
       "    .dataframe thead th {\n",
       "        text-align: right;\n",
       "    }\n",
       "</style>\n",
       "<table border=\"1\" class=\"dataframe\">\n",
       "  <thead>\n",
       "    <tr style=\"text-align: right;\">\n",
       "      <th></th>\n",
       "      <th>Beverage_Id</th>\n",
       "      <th>Type</th>\n",
       "      <th>Calories</th>\n",
       "      <th>Fat</th>\n",
       "      <th>Carbohydrate</th>\n",
       "      <th>Fibre</th>\n",
       "      <th>Sugar</th>\n",
       "      <th>Protein</th>\n",
       "      <th>Caffeine</th>\n",
       "    </tr>\n",
       "  </thead>\n",
       "  <tbody>\n",
       "    <tr>\n",
       "      <th>0</th>\n",
       "      <td>1</td>\n",
       "      <td>0</td>\n",
       "      <td>5</td>\n",
       "      <td>0.1</td>\n",
       "      <td>10</td>\n",
       "      <td>0</td>\n",
       "      <td>0</td>\n",
       "      <td>1.0</td>\n",
       "      <td>330</td>\n",
       "    </tr>\n",
       "    <tr>\n",
       "      <th>1</th>\n",
       "      <td>2</td>\n",
       "      <td>0</td>\n",
       "      <td>190</td>\n",
       "      <td>7.0</td>\n",
       "      <td>170</td>\n",
       "      <td>0</td>\n",
       "      <td>17</td>\n",
       "      <td>12.0</td>\n",
       "      <td>150</td>\n",
       "    </tr>\n",
       "    <tr>\n",
       "      <th>2</th>\n",
       "      <td>3</td>\n",
       "      <td>0</td>\n",
       "      <td>260</td>\n",
       "      <td>8.0</td>\n",
       "      <td>140</td>\n",
       "      <td>2</td>\n",
       "      <td>34</td>\n",
       "      <td>13.0</td>\n",
       "      <td>175</td>\n",
       "    </tr>\n",
       "    <tr>\n",
       "      <th>3</th>\n",
       "      <td>4</td>\n",
       "      <td>0</td>\n",
       "      <td>250</td>\n",
       "      <td>6.0</td>\n",
       "      <td>150</td>\n",
       "      <td>0</td>\n",
       "      <td>35</td>\n",
       "      <td>12.0</td>\n",
       "      <td>150</td>\n",
       "    </tr>\n",
       "    <tr>\n",
       "      <th>4</th>\n",
       "      <td>5</td>\n",
       "      <td>0</td>\n",
       "      <td>15</td>\n",
       "      <td>0.0</td>\n",
       "      <td>15</td>\n",
       "      <td>0</td>\n",
       "      <td>0</td>\n",
       "      <td>1.0</td>\n",
       "      <td>225</td>\n",
       "    </tr>\n",
       "  </tbody>\n",
       "</table>\n",
       "</div>"
      ],
      "text/plain": [
       "   Beverage_Id  Type  Calories  Fat  Carbohydrate  Fibre  Sugar  Protein  \\\n",
       "0            1     0         5  0.1            10      0      0      1.0   \n",
       "1            2     0       190  7.0           170      0     17     12.0   \n",
       "2            3     0       260  8.0           140      2     34     13.0   \n",
       "3            4     0       250  6.0           150      0     35     12.0   \n",
       "4            5     0        15  0.0            15      0      0      1.0   \n",
       "\n",
       "   Caffeine  \n",
       "0       330  \n",
       "1       150  \n",
       "2       175  \n",
       "3       150  \n",
       "4       225  "
      ]
     },
     "execution_count": 49,
     "metadata": {},
     "output_type": "execute_result"
    }
   ],
   "source": [
    "labelEncoder = LabelEncoder()\n",
    "labelEncoder.fit(df_new['Type'])\n",
    "df_new['Type'] = labelEncoder.transform(df_new['Type'])\n",
    "df_new.head()"
   ]
  },
  {
   "cell_type": "code",
   "execution_count": 50,
   "metadata": {},
   "outputs": [
    {
     "data": {
      "text/html": [
       "<div>\n",
       "<style scoped>\n",
       "    .dataframe tbody tr th:only-of-type {\n",
       "        vertical-align: middle;\n",
       "    }\n",
       "\n",
       "    .dataframe tbody tr th {\n",
       "        vertical-align: top;\n",
       "    }\n",
       "\n",
       "    .dataframe thead th {\n",
       "        text-align: right;\n",
       "    }\n",
       "</style>\n",
       "<table border=\"1\" class=\"dataframe\">\n",
       "  <thead>\n",
       "    <tr style=\"text-align: right;\">\n",
       "      <th></th>\n",
       "      <th>Type</th>\n",
       "      <th>Calories</th>\n",
       "      <th>Fat</th>\n",
       "      <th>Carbohydrate</th>\n",
       "      <th>Fibre</th>\n",
       "      <th>Sugar</th>\n",
       "      <th>Protein</th>\n",
       "      <th>Caffeine</th>\n",
       "    </tr>\n",
       "  </thead>\n",
       "  <tbody>\n",
       "    <tr>\n",
       "      <th>0</th>\n",
       "      <td>0</td>\n",
       "      <td>5</td>\n",
       "      <td>0.1</td>\n",
       "      <td>10</td>\n",
       "      <td>0</td>\n",
       "      <td>0</td>\n",
       "      <td>1.0</td>\n",
       "      <td>330</td>\n",
       "    </tr>\n",
       "    <tr>\n",
       "      <th>1</th>\n",
       "      <td>0</td>\n",
       "      <td>190</td>\n",
       "      <td>7.0</td>\n",
       "      <td>170</td>\n",
       "      <td>0</td>\n",
       "      <td>17</td>\n",
       "      <td>12.0</td>\n",
       "      <td>150</td>\n",
       "    </tr>\n",
       "    <tr>\n",
       "      <th>2</th>\n",
       "      <td>0</td>\n",
       "      <td>260</td>\n",
       "      <td>8.0</td>\n",
       "      <td>140</td>\n",
       "      <td>2</td>\n",
       "      <td>34</td>\n",
       "      <td>13.0</td>\n",
       "      <td>175</td>\n",
       "    </tr>\n",
       "    <tr>\n",
       "      <th>3</th>\n",
       "      <td>0</td>\n",
       "      <td>250</td>\n",
       "      <td>6.0</td>\n",
       "      <td>150</td>\n",
       "      <td>0</td>\n",
       "      <td>35</td>\n",
       "      <td>12.0</td>\n",
       "      <td>150</td>\n",
       "    </tr>\n",
       "    <tr>\n",
       "      <th>4</th>\n",
       "      <td>0</td>\n",
       "      <td>15</td>\n",
       "      <td>0.0</td>\n",
       "      <td>15</td>\n",
       "      <td>0</td>\n",
       "      <td>0</td>\n",
       "      <td>1.0</td>\n",
       "      <td>225</td>\n",
       "    </tr>\n",
       "  </tbody>\n",
       "</table>\n",
       "</div>"
      ],
      "text/plain": [
       "   Type  Calories  Fat  Carbohydrate  Fibre  Sugar  Protein  Caffeine\n",
       "0     0         5  0.1            10      0      0      1.0       330\n",
       "1     0       190  7.0           170      0     17     12.0       150\n",
       "2     0       260  8.0           140      2     34     13.0       175\n",
       "3     0       250  6.0           150      0     35     12.0       150\n",
       "4     0        15  0.0            15      0      0      1.0       225"
      ]
     },
     "execution_count": 50,
     "metadata": {},
     "output_type": "execute_result"
    }
   ],
   "source": [
    "df_features = df_new[['Type','Calories','Fat','Carbohydrate','Fibre','Sugar', 'Protein' ,'Caffeine']].copy()\n",
    "df_features.head()"
   ]
  },
  {
   "cell_type": "code",
   "execution_count": 51,
   "metadata": {},
   "outputs": [],
   "source": [
    "df_label = df_new[['Beverage_Id']].copy()\n",
    "label = df_label.to_numpy()"
   ]
  },
  {
   "cell_type": "code",
   "execution_count": 52,
   "metadata": {},
   "outputs": [
    {
     "data": {
      "text/plain": [
       "array([[0.        , 0.00769231, 0.0027027 , ..., 0.        , 0.02941176,\n",
       "        1.        ],\n",
       "       [0.        , 0.29230769, 0.18918919, ..., 0.26153846, 0.35294118,\n",
       "        0.45454545],\n",
       "       [0.        , 0.4       , 0.21621622, ..., 0.52307692, 0.38235294,\n",
       "        0.53030303],\n",
       "       ...,\n",
       "       [1.        , 0.52307692, 0.35135135, ..., 0.53846154, 0.52941176,\n",
       "        0.        ],\n",
       "       [1.        , 0.13846154, 0.21621622, ..., 0.        , 0.02941176,\n",
       "        0.        ],\n",
       "       [1.        , 0.13846154, 0.        , ..., 0.29230769, 0.02941176,\n",
       "        0.        ]])"
      ]
     },
     "execution_count": 52,
     "metadata": {},
     "output_type": "execute_result"
    }
   ],
   "source": [
    "scaler = MinMaxScaler()\n",
    "X_scaled = scaler.fit_transform(df_features)\n",
    "X_scaled"
   ]
  },
  {
   "cell_type": "code",
   "execution_count": 53,
   "metadata": {},
   "outputs": [
    {
     "data": {
      "text/plain": [
       "KMeans(algorithm='auto', copy_x=True, init='k-means++', max_iter=300,\n",
       "       n_clusters=5, n_init=10, n_jobs=None, precompute_distances='auto',\n",
       "       random_state=None, tol=0.0001, verbose=0)"
      ]
     },
     "execution_count": 53,
     "metadata": {},
     "output_type": "execute_result"
    }
   ],
   "source": [
    "kmeans = KMeans(n_clusters=5, max_iter=300, algorithm = 'auto')\n",
    "kmeans.fit(X_scaled)"
   ]
  },
  {
   "cell_type": "code",
   "execution_count": 54,
   "metadata": {},
   "outputs": [],
   "source": [
    "filename = 'SB_Menu_ML.h5'\n",
    "pickle.dump(kmeans, open(filename, 'wb'))"
   ]
  },
  {
   "cell_type": "code",
   "execution_count": 55,
   "metadata": {},
   "outputs": [],
   "source": [
    "loaded_model = pickle.load(open(filename, 'rb'))"
   ]
  },
  {
   "cell_type": "code",
   "execution_count": 56,
   "metadata": {},
   "outputs": [
    {
     "data": {
      "text/plain": [
       "0"
      ]
     },
     "execution_count": 56,
     "metadata": {},
     "output_type": "execute_result"
    }
   ],
   "source": [
    "predict_me = np.array(X_scaled[100].astype(float))\n",
    "predict_me = predict_me.reshape(-1, len(predict_me))\n",
    "prediction = loaded_model.predict(predict_me)\n",
    "prediction[0]"
   ]
  },
  {
   "cell_type": "code",
   "execution_count": 88,
   "metadata": {},
   "outputs": [
    {
     "data": {
      "text/html": [
       "<div>\n",
       "<style scoped>\n",
       "    .dataframe tbody tr th:only-of-type {\n",
       "        vertical-align: middle;\n",
       "    }\n",
       "\n",
       "    .dataframe tbody tr th {\n",
       "        vertical-align: top;\n",
       "    }\n",
       "\n",
       "    .dataframe thead th {\n",
       "        text-align: right;\n",
       "    }\n",
       "</style>\n",
       "<table border=\"1\" class=\"dataframe\">\n",
       "  <thead>\n",
       "    <tr style=\"text-align: right;\">\n",
       "      <th></th>\n",
       "      <th>Beverage_Id</th>\n",
       "      <th>Beverage</th>\n",
       "      <th>Type</th>\n",
       "      <th>Calories</th>\n",
       "      <th>Fat</th>\n",
       "      <th>Carbohydrate</th>\n",
       "      <th>Fibre</th>\n",
       "      <th>Sugar</th>\n",
       "      <th>Protein</th>\n",
       "      <th>Caffeine</th>\n",
       "      <th>Cluster</th>\n",
       "    </tr>\n",
       "  </thead>\n",
       "  <tbody>\n",
       "    <tr>\n",
       "      <th>0</th>\n",
       "      <td>1</td>\n",
       "      <td>Brewed Coffee</td>\n",
       "      <td>Beverage</td>\n",
       "      <td>5</td>\n",
       "      <td>0.1</td>\n",
       "      <td>10</td>\n",
       "      <td>0</td>\n",
       "      <td>0</td>\n",
       "      <td>1.0</td>\n",
       "      <td>330</td>\n",
       "      <td>2.0</td>\n",
       "    </tr>\n",
       "    <tr>\n",
       "      <th>1</th>\n",
       "      <td>2</td>\n",
       "      <td>CaffA Latte</td>\n",
       "      <td>Beverage</td>\n",
       "      <td>190</td>\n",
       "      <td>7.0</td>\n",
       "      <td>170</td>\n",
       "      <td>0</td>\n",
       "      <td>17</td>\n",
       "      <td>12.0</td>\n",
       "      <td>150</td>\n",
       "      <td>3.0</td>\n",
       "    </tr>\n",
       "    <tr>\n",
       "      <th>2</th>\n",
       "      <td>3</td>\n",
       "      <td>CaffA Mocha (Without Whipped Cream)</td>\n",
       "      <td>Beverage</td>\n",
       "      <td>260</td>\n",
       "      <td>8.0</td>\n",
       "      <td>140</td>\n",
       "      <td>2</td>\n",
       "      <td>34</td>\n",
       "      <td>13.0</td>\n",
       "      <td>175</td>\n",
       "      <td>3.0</td>\n",
       "    </tr>\n",
       "    <tr>\n",
       "      <th>3</th>\n",
       "      <td>4</td>\n",
       "      <td>Vanilla Latte (Or Other Flavoured Latte)</td>\n",
       "      <td>Beverage</td>\n",
       "      <td>250</td>\n",
       "      <td>6.0</td>\n",
       "      <td>150</td>\n",
       "      <td>0</td>\n",
       "      <td>35</td>\n",
       "      <td>12.0</td>\n",
       "      <td>150</td>\n",
       "      <td>3.0</td>\n",
       "    </tr>\n",
       "    <tr>\n",
       "      <th>4</th>\n",
       "      <td>5</td>\n",
       "      <td>CaffA Americano</td>\n",
       "      <td>Beverage</td>\n",
       "      <td>15</td>\n",
       "      <td>0.0</td>\n",
       "      <td>15</td>\n",
       "      <td>0</td>\n",
       "      <td>0</td>\n",
       "      <td>1.0</td>\n",
       "      <td>225</td>\n",
       "      <td>2.0</td>\n",
       "    </tr>\n",
       "  </tbody>\n",
       "</table>\n",
       "</div>"
      ],
      "text/plain": [
       "   Beverage_Id                                  Beverage      Type  Calories  \\\n",
       "0            1                             Brewed Coffee  Beverage         5   \n",
       "1            2                               CaffA Latte  Beverage       190   \n",
       "2            3       CaffA Mocha (Without Whipped Cream)  Beverage       260   \n",
       "3            4  Vanilla Latte (Or Other Flavoured Latte)  Beverage       250   \n",
       "4            5                           CaffA Americano  Beverage        15   \n",
       "\n",
       "   Fat  Carbohydrate  Fibre  Sugar  Protein  Caffeine  Cluster  \n",
       "0  0.1            10      0      0      1.0       330      2.0  \n",
       "1  7.0           170      0     17     12.0       150      3.0  \n",
       "2  8.0           140      2     34     13.0       175      3.0  \n",
       "3  6.0           150      0     35     12.0       150      3.0  \n",
       "4  0.0            15      0      0      1.0       225      2.0  "
      ]
     },
     "execution_count": 88,
     "metadata": {},
     "output_type": "execute_result"
    }
   ],
   "source": [
    "for i in range(len(df_features)):\n",
    "    predict_me = np.array(X_scaled[i].astype(float))\n",
    "    predict_me = predict_me.reshape(-1, len(predict_me))\n",
    "    prediction = loaded_model.predict(predict_me)\n",
    "    df.loc[df['Beverage_Id'] == label[i][0], 'Cluster'] = prediction[0] \n",
    "    \n",
    "df.head()"
   ]
  },
  {
   "cell_type": "code",
   "execution_count": 109,
   "metadata": {},
   "outputs": [],
   "source": [
    "df.loc[df['Cluster'] == 0, 'Label'] = 'High Protien Low Sugar Meal'\n",
    "df.loc[df['Cluster'] == 1, 'Label'] = 'Feel good snack'\n",
    "df.loc[df['Cluster'] == 2, 'Label'] = 'Light Beverage'\n",
    "df.loc[df['Cluster'] == 3, 'Label'] = 'Beverage'\n",
    "df.loc[df['Cluster'] == 4, 'Label'] = 'Healthy Snack'"
   ]
  },
  {
   "cell_type": "code",
   "execution_count": 110,
   "metadata": {},
   "outputs": [
    {
     "data": {
      "text/html": [
       "<div>\n",
       "<style scoped>\n",
       "    .dataframe tbody tr th:only-of-type {\n",
       "        vertical-align: middle;\n",
       "    }\n",
       "\n",
       "    .dataframe tbody tr th {\n",
       "        vertical-align: top;\n",
       "    }\n",
       "\n",
       "    .dataframe thead th {\n",
       "        text-align: right;\n",
       "    }\n",
       "</style>\n",
       "<table border=\"1\" class=\"dataframe\">\n",
       "  <thead>\n",
       "    <tr style=\"text-align: right;\">\n",
       "      <th></th>\n",
       "      <th>Beverage_Id</th>\n",
       "      <th>Beverage</th>\n",
       "      <th>Type</th>\n",
       "      <th>Calories</th>\n",
       "      <th>Fat</th>\n",
       "      <th>Carbohydrate</th>\n",
       "      <th>Fibre</th>\n",
       "      <th>Sugar</th>\n",
       "      <th>Protein</th>\n",
       "      <th>Caffeine</th>\n",
       "      <th>Cluster</th>\n",
       "      <th>Label</th>\n",
       "    </tr>\n",
       "  </thead>\n",
       "  <tbody>\n",
       "    <tr>\n",
       "      <th>0</th>\n",
       "      <td>1</td>\n",
       "      <td>Brewed Coffee</td>\n",
       "      <td>Beverage</td>\n",
       "      <td>5</td>\n",
       "      <td>0.1</td>\n",
       "      <td>10</td>\n",
       "      <td>0</td>\n",
       "      <td>0</td>\n",
       "      <td>1.0</td>\n",
       "      <td>330</td>\n",
       "      <td>2.0</td>\n",
       "      <td>Light Beverage</td>\n",
       "    </tr>\n",
       "    <tr>\n",
       "      <th>1</th>\n",
       "      <td>2</td>\n",
       "      <td>CaffA Latte</td>\n",
       "      <td>Beverage</td>\n",
       "      <td>190</td>\n",
       "      <td>7.0</td>\n",
       "      <td>170</td>\n",
       "      <td>0</td>\n",
       "      <td>17</td>\n",
       "      <td>12.0</td>\n",
       "      <td>150</td>\n",
       "      <td>3.0</td>\n",
       "      <td>Beverage</td>\n",
       "    </tr>\n",
       "    <tr>\n",
       "      <th>2</th>\n",
       "      <td>3</td>\n",
       "      <td>CaffA Mocha (Without Whipped Cream)</td>\n",
       "      <td>Beverage</td>\n",
       "      <td>260</td>\n",
       "      <td>8.0</td>\n",
       "      <td>140</td>\n",
       "      <td>2</td>\n",
       "      <td>34</td>\n",
       "      <td>13.0</td>\n",
       "      <td>175</td>\n",
       "      <td>3.0</td>\n",
       "      <td>Beverage</td>\n",
       "    </tr>\n",
       "    <tr>\n",
       "      <th>3</th>\n",
       "      <td>4</td>\n",
       "      <td>Vanilla Latte (Or Other Flavoured Latte)</td>\n",
       "      <td>Beverage</td>\n",
       "      <td>250</td>\n",
       "      <td>6.0</td>\n",
       "      <td>150</td>\n",
       "      <td>0</td>\n",
       "      <td>35</td>\n",
       "      <td>12.0</td>\n",
       "      <td>150</td>\n",
       "      <td>3.0</td>\n",
       "      <td>Beverage</td>\n",
       "    </tr>\n",
       "    <tr>\n",
       "      <th>4</th>\n",
       "      <td>5</td>\n",
       "      <td>CaffA Americano</td>\n",
       "      <td>Beverage</td>\n",
       "      <td>15</td>\n",
       "      <td>0.0</td>\n",
       "      <td>15</td>\n",
       "      <td>0</td>\n",
       "      <td>0</td>\n",
       "      <td>1.0</td>\n",
       "      <td>225</td>\n",
       "      <td>2.0</td>\n",
       "      <td>Light Beverage</td>\n",
       "    </tr>\n",
       "    <tr>\n",
       "      <th>5</th>\n",
       "      <td>6</td>\n",
       "      <td>Cappuccino</td>\n",
       "      <td>Beverage</td>\n",
       "      <td>120</td>\n",
       "      <td>4.0</td>\n",
       "      <td>100</td>\n",
       "      <td>0</td>\n",
       "      <td>10</td>\n",
       "      <td>8.0</td>\n",
       "      <td>150</td>\n",
       "      <td>2.0</td>\n",
       "      <td>Light Beverage</td>\n",
       "    </tr>\n",
       "    <tr>\n",
       "      <th>6</th>\n",
       "      <td>7</td>\n",
       "      <td>Espresso</td>\n",
       "      <td>Beverage</td>\n",
       "      <td>10</td>\n",
       "      <td>0.0</td>\n",
       "      <td>1</td>\n",
       "      <td>0</td>\n",
       "      <td>0</td>\n",
       "      <td>1.0</td>\n",
       "      <td>150</td>\n",
       "      <td>2.0</td>\n",
       "      <td>Light Beverage</td>\n",
       "    </tr>\n",
       "    <tr>\n",
       "      <th>7</th>\n",
       "      <td>8</td>\n",
       "      <td>Skinny Latte (Any Flavour)</td>\n",
       "      <td>Beverage</td>\n",
       "      <td>120</td>\n",
       "      <td>0.3</td>\n",
       "      <td>160</td>\n",
       "      <td>0</td>\n",
       "      <td>16</td>\n",
       "      <td>12.0</td>\n",
       "      <td>150</td>\n",
       "      <td>3.0</td>\n",
       "      <td>Beverage</td>\n",
       "    </tr>\n",
       "    <tr>\n",
       "      <th>8</th>\n",
       "      <td>9</td>\n",
       "      <td>Caramel Macchiato</td>\n",
       "      <td>Beverage</td>\n",
       "      <td>240</td>\n",
       "      <td>7.0</td>\n",
       "      <td>150</td>\n",
       "      <td>0</td>\n",
       "      <td>32</td>\n",
       "      <td>10.0</td>\n",
       "      <td>150</td>\n",
       "      <td>3.0</td>\n",
       "      <td>Beverage</td>\n",
       "    </tr>\n",
       "    <tr>\n",
       "      <th>9</th>\n",
       "      <td>10</td>\n",
       "      <td>White Chocolate Mocha (Without Whipped Cream)</td>\n",
       "      <td>Beverage</td>\n",
       "      <td>400</td>\n",
       "      <td>11.0</td>\n",
       "      <td>250</td>\n",
       "      <td>0</td>\n",
       "      <td>58</td>\n",
       "      <td>15.0</td>\n",
       "      <td>150</td>\n",
       "      <td>3.0</td>\n",
       "      <td>Beverage</td>\n",
       "    </tr>\n",
       "    <tr>\n",
       "      <th>10</th>\n",
       "      <td>11</td>\n",
       "      <td>Hot Chocolate (Without Whipped Cream)</td>\n",
       "      <td>Beverage</td>\n",
       "      <td>290</td>\n",
       "      <td>9.0</td>\n",
       "      <td>160</td>\n",
       "      <td>2</td>\n",
       "      <td>41</td>\n",
       "      <td>14.0</td>\n",
       "      <td>25</td>\n",
       "      <td>3.0</td>\n",
       "      <td>Beverage</td>\n",
       "    </tr>\n",
       "    <tr>\n",
       "      <th>11</th>\n",
       "      <td>12</td>\n",
       "      <td>Caramel Apple Spice (Without Whipped Cream)</td>\n",
       "      <td>Beverage</td>\n",
       "      <td>280</td>\n",
       "      <td>0.0</td>\n",
       "      <td>20</td>\n",
       "      <td>0</td>\n",
       "      <td>65</td>\n",
       "      <td>0.0</td>\n",
       "      <td>0</td>\n",
       "      <td>3.0</td>\n",
       "      <td>Beverage</td>\n",
       "    </tr>\n",
       "    <tr>\n",
       "      <th>12</th>\n",
       "      <td>13</td>\n",
       "      <td>TazoA Tea</td>\n",
       "      <td>Beverage</td>\n",
       "      <td>0</td>\n",
       "      <td>0.0</td>\n",
       "      <td>0</td>\n",
       "      <td>0</td>\n",
       "      <td>0</td>\n",
       "      <td>0.0</td>\n",
       "      <td>50</td>\n",
       "      <td>2.0</td>\n",
       "      <td>Light Beverage</td>\n",
       "    </tr>\n",
       "    <tr>\n",
       "      <th>13</th>\n",
       "      <td>14</td>\n",
       "      <td>TazoA Chai Tea Latte</td>\n",
       "      <td>Beverage</td>\n",
       "      <td>240</td>\n",
       "      <td>4.5</td>\n",
       "      <td>115</td>\n",
       "      <td>0</td>\n",
       "      <td>42</td>\n",
       "      <td>8.0</td>\n",
       "      <td>95</td>\n",
       "      <td>3.0</td>\n",
       "      <td>Beverage</td>\n",
       "    </tr>\n",
       "    <tr>\n",
       "      <th>14</th>\n",
       "      <td>15</td>\n",
       "      <td>TazoA Green Tea Latte</td>\n",
       "      <td>Beverage</td>\n",
       "      <td>350</td>\n",
       "      <td>8.0</td>\n",
       "      <td>180</td>\n",
       "      <td>1</td>\n",
       "      <td>55</td>\n",
       "      <td>14.0</td>\n",
       "      <td>80</td>\n",
       "      <td>3.0</td>\n",
       "      <td>Beverage</td>\n",
       "    </tr>\n",
       "    <tr>\n",
       "      <th>15</th>\n",
       "      <td>16</td>\n",
       "      <td>TazoA Full-Leaf Tea Latte</td>\n",
       "      <td>Beverage</td>\n",
       "      <td>190</td>\n",
       "      <td>4.0</td>\n",
       "      <td>95</td>\n",
       "      <td>0</td>\n",
       "      <td>30</td>\n",
       "      <td>7.0</td>\n",
       "      <td>50</td>\n",
       "      <td>3.0</td>\n",
       "      <td>Beverage</td>\n",
       "    </tr>\n",
       "    <tr>\n",
       "      <th>16</th>\n",
       "      <td>17</td>\n",
       "      <td>TazoA Full-Leaf Red Tea Latte (Vanilla Rooibos)</td>\n",
       "      <td>Beverage</td>\n",
       "      <td>190</td>\n",
       "      <td>4.0</td>\n",
       "      <td>95</td>\n",
       "      <td>0</td>\n",
       "      <td>30</td>\n",
       "      <td>7.0</td>\n",
       "      <td>0</td>\n",
       "      <td>3.0</td>\n",
       "      <td>Beverage</td>\n",
       "    </tr>\n",
       "    <tr>\n",
       "      <th>17</th>\n",
       "      <td>18</td>\n",
       "      <td>Iced Brewed Coffee (With Classic Syrup)</td>\n",
       "      <td>Beverage</td>\n",
       "      <td>90</td>\n",
       "      <td>0.1</td>\n",
       "      <td>5</td>\n",
       "      <td>0</td>\n",
       "      <td>21</td>\n",
       "      <td>0.3</td>\n",
       "      <td>165</td>\n",
       "      <td>2.0</td>\n",
       "      <td>Light Beverage</td>\n",
       "    </tr>\n",
       "    <tr>\n",
       "      <th>18</th>\n",
       "      <td>19</td>\n",
       "      <td>Iced Brewed Coffee (With Milk &amp; Classic Syrup)</td>\n",
       "      <td>Beverage</td>\n",
       "      <td>120</td>\n",
       "      <td>1.5</td>\n",
       "      <td>35</td>\n",
       "      <td>0</td>\n",
       "      <td>24</td>\n",
       "      <td>2.0</td>\n",
       "      <td>125</td>\n",
       "      <td>2.0</td>\n",
       "      <td>Light Beverage</td>\n",
       "    </tr>\n",
       "    <tr>\n",
       "      <th>19</th>\n",
       "      <td>20</td>\n",
       "      <td>Shaken Iced TazoA Tea (With Classic Syrup)</td>\n",
       "      <td>Beverage</td>\n",
       "      <td>80</td>\n",
       "      <td>0.0</td>\n",
       "      <td>0</td>\n",
       "      <td>0</td>\n",
       "      <td>21</td>\n",
       "      <td>0.0</td>\n",
       "      <td>50</td>\n",
       "      <td>2.0</td>\n",
       "      <td>Light Beverage</td>\n",
       "    </tr>\n",
       "    <tr>\n",
       "      <th>20</th>\n",
       "      <td>21</td>\n",
       "      <td>Banana Chocolate Smoothie</td>\n",
       "      <td>Beverage</td>\n",
       "      <td>300</td>\n",
       "      <td>5.0</td>\n",
       "      <td>160</td>\n",
       "      <td>7</td>\n",
       "      <td>34</td>\n",
       "      <td>20.0</td>\n",
       "      <td>15</td>\n",
       "      <td>3.0</td>\n",
       "      <td>Beverage</td>\n",
       "    </tr>\n",
       "    <tr>\n",
       "      <th>21</th>\n",
       "      <td>22</td>\n",
       "      <td>Orange Mango Banana Smoothie</td>\n",
       "      <td>Beverage</td>\n",
       "      <td>270</td>\n",
       "      <td>1.5</td>\n",
       "      <td>125</td>\n",
       "      <td>6</td>\n",
       "      <td>37</td>\n",
       "      <td>16.0</td>\n",
       "      <td>0</td>\n",
       "      <td>3.0</td>\n",
       "      <td>Beverage</td>\n",
       "    </tr>\n",
       "    <tr>\n",
       "      <th>22</th>\n",
       "      <td>23</td>\n",
       "      <td>Coffee</td>\n",
       "      <td>Beverage</td>\n",
       "      <td>240</td>\n",
       "      <td>3.0</td>\n",
       "      <td>220</td>\n",
       "      <td>0</td>\n",
       "      <td>50</td>\n",
       "      <td>3.0</td>\n",
       "      <td>95</td>\n",
       "      <td>3.0</td>\n",
       "      <td>Beverage</td>\n",
       "    </tr>\n",
       "    <tr>\n",
       "      <th>23</th>\n",
       "      <td>24</td>\n",
       "      <td>Mocha (Without Whipped Cream)</td>\n",
       "      <td>Beverage</td>\n",
       "      <td>290</td>\n",
       "      <td>4.0</td>\n",
       "      <td>220</td>\n",
       "      <td>1</td>\n",
       "      <td>58</td>\n",
       "      <td>4.0</td>\n",
       "      <td>110</td>\n",
       "      <td>3.0</td>\n",
       "      <td>Beverage</td>\n",
       "    </tr>\n",
       "    <tr>\n",
       "      <th>24</th>\n",
       "      <td>25</td>\n",
       "      <td>Caramel (Without Whipped Cream)</td>\n",
       "      <td>Beverage</td>\n",
       "      <td>280</td>\n",
       "      <td>3.5</td>\n",
       "      <td>220</td>\n",
       "      <td>0</td>\n",
       "      <td>59</td>\n",
       "      <td>3.0</td>\n",
       "      <td>100</td>\n",
       "      <td>3.0</td>\n",
       "      <td>Beverage</td>\n",
       "    </tr>\n",
       "    <tr>\n",
       "      <th>25</th>\n",
       "      <td>26</td>\n",
       "      <td>Java Chip (Without Whipped Cream)</td>\n",
       "      <td>Beverage</td>\n",
       "      <td>340</td>\n",
       "      <td>7.0</td>\n",
       "      <td>250</td>\n",
       "      <td>2</td>\n",
       "      <td>62</td>\n",
       "      <td>5.0</td>\n",
       "      <td>110</td>\n",
       "      <td>3.0</td>\n",
       "      <td>Beverage</td>\n",
       "    </tr>\n",
       "    <tr>\n",
       "      <th>26</th>\n",
       "      <td>27</td>\n",
       "      <td>Coffee</td>\n",
       "      <td>Beverage</td>\n",
       "      <td>120</td>\n",
       "      <td>0.1</td>\n",
       "      <td>210</td>\n",
       "      <td>0</td>\n",
       "      <td>26</td>\n",
       "      <td>3.0</td>\n",
       "      <td>95</td>\n",
       "      <td>3.0</td>\n",
       "      <td>Beverage</td>\n",
       "    </tr>\n",
       "    <tr>\n",
       "      <th>27</th>\n",
       "      <td>28</td>\n",
       "      <td>Caramel</td>\n",
       "      <td>Beverage</td>\n",
       "      <td>150</td>\n",
       "      <td>0.1</td>\n",
       "      <td>200</td>\n",
       "      <td>0</td>\n",
       "      <td>32</td>\n",
       "      <td>3.0</td>\n",
       "      <td>90</td>\n",
       "      <td>3.0</td>\n",
       "      <td>Beverage</td>\n",
       "    </tr>\n",
       "    <tr>\n",
       "      <th>28</th>\n",
       "      <td>29</td>\n",
       "      <td>Java Chip</td>\n",
       "      <td>Beverage</td>\n",
       "      <td>220</td>\n",
       "      <td>4.0</td>\n",
       "      <td>240</td>\n",
       "      <td>2</td>\n",
       "      <td>39</td>\n",
       "      <td>5.0</td>\n",
       "      <td>105</td>\n",
       "      <td>3.0</td>\n",
       "      <td>Beverage</td>\n",
       "    </tr>\n",
       "    <tr>\n",
       "      <th>29</th>\n",
       "      <td>30</td>\n",
       "      <td>Strawberries &amp; CrA me (Without Whipped Cream)</td>\n",
       "      <td>Beverage</td>\n",
       "      <td>260</td>\n",
       "      <td>4.0</td>\n",
       "      <td>190</td>\n",
       "      <td>0</td>\n",
       "      <td>52</td>\n",
       "      <td>4.0</td>\n",
       "      <td>0</td>\n",
       "      <td>3.0</td>\n",
       "      <td>Beverage</td>\n",
       "    </tr>\n",
       "    <tr>\n",
       "      <th>...</th>\n",
       "      <td>...</td>\n",
       "      <td>...</td>\n",
       "      <td>...</td>\n",
       "      <td>...</td>\n",
       "      <td>...</td>\n",
       "      <td>...</td>\n",
       "      <td>...</td>\n",
       "      <td>...</td>\n",
       "      <td>...</td>\n",
       "      <td>...</td>\n",
       "      <td>...</td>\n",
       "      <td>...</td>\n",
       "    </tr>\n",
       "    <tr>\n",
       "      <th>114</th>\n",
       "      <td>115</td>\n",
       "      <td>Classic Whole-Grain Oatmeal</td>\n",
       "      <td>Food</td>\n",
       "      <td>160</td>\n",
       "      <td>2.5</td>\n",
       "      <td>28</td>\n",
       "      <td>4</td>\n",
       "      <td>0</td>\n",
       "      <td>5.0</td>\n",
       "      <td>0</td>\n",
       "      <td>4.0</td>\n",
       "      <td>Healthy Snack</td>\n",
       "    </tr>\n",
       "    <tr>\n",
       "      <th>115</th>\n",
       "      <td>116</td>\n",
       "      <td>Double-Smoked Bacon Cheddar &amp; Egg Sandwich</td>\n",
       "      <td>Food</td>\n",
       "      <td>490</td>\n",
       "      <td>27.0</td>\n",
       "      <td>40</td>\n",
       "      <td>1</td>\n",
       "      <td>8</td>\n",
       "      <td>21.0</td>\n",
       "      <td>0</td>\n",
       "      <td>0.0</td>\n",
       "      <td>High Protien Low Sugar Meal</td>\n",
       "    </tr>\n",
       "    <tr>\n",
       "      <th>116</th>\n",
       "      <td>117</td>\n",
       "      <td>Ham &amp; Cheese Croissant</td>\n",
       "      <td>Food</td>\n",
       "      <td>320</td>\n",
       "      <td>17.0</td>\n",
       "      <td>28</td>\n",
       "      <td>1</td>\n",
       "      <td>5</td>\n",
       "      <td>14.0</td>\n",
       "      <td>0</td>\n",
       "      <td>4.0</td>\n",
       "      <td>Healthy Snack</td>\n",
       "    </tr>\n",
       "    <tr>\n",
       "      <th>117</th>\n",
       "      <td>118</td>\n",
       "      <td>Hearty Blueberry Oatmeal</td>\n",
       "      <td>Food</td>\n",
       "      <td>220</td>\n",
       "      <td>2.5</td>\n",
       "      <td>43</td>\n",
       "      <td>5</td>\n",
       "      <td>13</td>\n",
       "      <td>5.0</td>\n",
       "      <td>0</td>\n",
       "      <td>4.0</td>\n",
       "      <td>Healthy Snack</td>\n",
       "    </tr>\n",
       "    <tr>\n",
       "      <th>118</th>\n",
       "      <td>119</td>\n",
       "      <td>Reduced-Fat Turkey Bacon &amp; Cage Free Egg White...</td>\n",
       "      <td>Food</td>\n",
       "      <td>230</td>\n",
       "      <td>6.0</td>\n",
       "      <td>28</td>\n",
       "      <td>2</td>\n",
       "      <td>2</td>\n",
       "      <td>16.0</td>\n",
       "      <td>0</td>\n",
       "      <td>4.0</td>\n",
       "      <td>Healthy Snack</td>\n",
       "    </tr>\n",
       "    <tr>\n",
       "      <th>119</th>\n",
       "      <td>120</td>\n",
       "      <td>Sausage Cheddar &amp; Egg Breakfast Sandwich</td>\n",
       "      <td>Food</td>\n",
       "      <td>500</td>\n",
       "      <td>28.0</td>\n",
       "      <td>41</td>\n",
       "      <td>1</td>\n",
       "      <td>2</td>\n",
       "      <td>15.0</td>\n",
       "      <td>0</td>\n",
       "      <td>0.0</td>\n",
       "      <td>High Protien Low Sugar Meal</td>\n",
       "    </tr>\n",
       "    <tr>\n",
       "      <th>120</th>\n",
       "      <td>121</td>\n",
       "      <td>Seared Steak Egg &amp; Tomatillo Wrap</td>\n",
       "      <td>Food</td>\n",
       "      <td>410</td>\n",
       "      <td>18.0</td>\n",
       "      <td>43</td>\n",
       "      <td>2</td>\n",
       "      <td>4</td>\n",
       "      <td>21.0</td>\n",
       "      <td>0</td>\n",
       "      <td>0.0</td>\n",
       "      <td>High Protien Low Sugar Meal</td>\n",
       "    </tr>\n",
       "    <tr>\n",
       "      <th>121</th>\n",
       "      <td>122</td>\n",
       "      <td>Slow-Roasted Ham Swiss &amp; Egg Breakfast Sandwich</td>\n",
       "      <td>Food</td>\n",
       "      <td>450</td>\n",
       "      <td>23.0</td>\n",
       "      <td>42</td>\n",
       "      <td>1</td>\n",
       "      <td>7</td>\n",
       "      <td>24.0</td>\n",
       "      <td>0</td>\n",
       "      <td>0.0</td>\n",
       "      <td>High Protien Low Sugar Meal</td>\n",
       "    </tr>\n",
       "    <tr>\n",
       "      <th>122</th>\n",
       "      <td>123</td>\n",
       "      <td>Sous Vide Egg Bites: Bacon &amp; Gruyere</td>\n",
       "      <td>Food</td>\n",
       "      <td>310</td>\n",
       "      <td>22.0</td>\n",
       "      <td>9</td>\n",
       "      <td>0</td>\n",
       "      <td>2</td>\n",
       "      <td>19.0</td>\n",
       "      <td>0</td>\n",
       "      <td>0.0</td>\n",
       "      <td>High Protien Low Sugar Meal</td>\n",
       "    </tr>\n",
       "    <tr>\n",
       "      <th>123</th>\n",
       "      <td>124</td>\n",
       "      <td>Sous Vide Egg Bites: Egg White &amp; Red Pepper</td>\n",
       "      <td>Food</td>\n",
       "      <td>170</td>\n",
       "      <td>7.0</td>\n",
       "      <td>13</td>\n",
       "      <td>1</td>\n",
       "      <td>2</td>\n",
       "      <td>13.0</td>\n",
       "      <td>0</td>\n",
       "      <td>4.0</td>\n",
       "      <td>Healthy Snack</td>\n",
       "    </tr>\n",
       "    <tr>\n",
       "      <th>124</th>\n",
       "      <td>125</td>\n",
       "      <td>Spicy Chorizo  Monterey Jack &amp; Egg Breakfast S...</td>\n",
       "      <td>Food</td>\n",
       "      <td>500</td>\n",
       "      <td>30.0</td>\n",
       "      <td>35</td>\n",
       "      <td>3</td>\n",
       "      <td>5</td>\n",
       "      <td>26.0</td>\n",
       "      <td>0</td>\n",
       "      <td>0.0</td>\n",
       "      <td>High Protien Low Sugar Meal</td>\n",
       "    </tr>\n",
       "    <tr>\n",
       "      <th>125</th>\n",
       "      <td>126</td>\n",
       "      <td>Spinach Feta &amp; Cage Free Egg White Breakfast Wrap</td>\n",
       "      <td>Food</td>\n",
       "      <td>290</td>\n",
       "      <td>10.0</td>\n",
       "      <td>33</td>\n",
       "      <td>6</td>\n",
       "      <td>5</td>\n",
       "      <td>19.0</td>\n",
       "      <td>0</td>\n",
       "      <td>4.0</td>\n",
       "      <td>Healthy Snack</td>\n",
       "    </tr>\n",
       "    <tr>\n",
       "      <th>126</th>\n",
       "      <td>127</td>\n",
       "      <td>Ancho Chipotle Chicken Panini</td>\n",
       "      <td>Food</td>\n",
       "      <td>500</td>\n",
       "      <td>19.0</td>\n",
       "      <td>57</td>\n",
       "      <td>4</td>\n",
       "      <td>3</td>\n",
       "      <td>26.0</td>\n",
       "      <td>0</td>\n",
       "      <td>0.0</td>\n",
       "      <td>High Protien Low Sugar Meal</td>\n",
       "    </tr>\n",
       "    <tr>\n",
       "      <th>127</th>\n",
       "      <td>128</td>\n",
       "      <td>Chicken &amp; Quinoa Protein Bowl with Black Beans...</td>\n",
       "      <td>Food</td>\n",
       "      <td>420</td>\n",
       "      <td>17.0</td>\n",
       "      <td>42</td>\n",
       "      <td>9</td>\n",
       "      <td>11</td>\n",
       "      <td>27.0</td>\n",
       "      <td>0</td>\n",
       "      <td>0.0</td>\n",
       "      <td>High Protien Low Sugar Meal</td>\n",
       "    </tr>\n",
       "    <tr>\n",
       "      <th>128</th>\n",
       "      <td>129</td>\n",
       "      <td>Chicken Artichoke on Ancient Grain Flatbread</td>\n",
       "      <td>Food</td>\n",
       "      <td>510</td>\n",
       "      <td>27.0</td>\n",
       "      <td>37</td>\n",
       "      <td>5</td>\n",
       "      <td>1</td>\n",
       "      <td>24.0</td>\n",
       "      <td>0</td>\n",
       "      <td>0.0</td>\n",
       "      <td>High Protien Low Sugar Meal</td>\n",
       "    </tr>\n",
       "    <tr>\n",
       "      <th>129</th>\n",
       "      <td>130</td>\n",
       "      <td>Chicken BLT Salad Sandwich</td>\n",
       "      <td>Food</td>\n",
       "      <td>470</td>\n",
       "      <td>25.0</td>\n",
       "      <td>35</td>\n",
       "      <td>3</td>\n",
       "      <td>3</td>\n",
       "      <td>21.0</td>\n",
       "      <td>0</td>\n",
       "      <td>0.0</td>\n",
       "      <td>High Protien Low Sugar Meal</td>\n",
       "    </tr>\n",
       "    <tr>\n",
       "      <th>130</th>\n",
       "      <td>131</td>\n",
       "      <td>Egg Salad Sandwich</td>\n",
       "      <td>Food</td>\n",
       "      <td>480</td>\n",
       "      <td>27.0</td>\n",
       "      <td>42</td>\n",
       "      <td>7</td>\n",
       "      <td>5</td>\n",
       "      <td>16.0</td>\n",
       "      <td>0</td>\n",
       "      <td>0.0</td>\n",
       "      <td>High Protien Low Sugar Meal</td>\n",
       "    </tr>\n",
       "    <tr>\n",
       "      <th>131</th>\n",
       "      <td>132</td>\n",
       "      <td>Homestyle Chicken &amp; Double-Smoked Bacon</td>\n",
       "      <td>Food</td>\n",
       "      <td>480</td>\n",
       "      <td>17.0</td>\n",
       "      <td>57</td>\n",
       "      <td>3</td>\n",
       "      <td>11</td>\n",
       "      <td>23.0</td>\n",
       "      <td>0</td>\n",
       "      <td>0.0</td>\n",
       "      <td>High Protien Low Sugar Meal</td>\n",
       "    </tr>\n",
       "    <tr>\n",
       "      <th>132</th>\n",
       "      <td>133</td>\n",
       "      <td>Italian-Style Ham &amp; Spicy Salami</td>\n",
       "      <td>Food</td>\n",
       "      <td>480</td>\n",
       "      <td>20.0</td>\n",
       "      <td>49</td>\n",
       "      <td>3</td>\n",
       "      <td>3</td>\n",
       "      <td>22.0</td>\n",
       "      <td>0</td>\n",
       "      <td>0.0</td>\n",
       "      <td>High Protien Low Sugar Meal</td>\n",
       "    </tr>\n",
       "    <tr>\n",
       "      <th>133</th>\n",
       "      <td>134</td>\n",
       "      <td>Lentils &amp; Vegetable Protein Bowl with Brown Rice</td>\n",
       "      <td>Food</td>\n",
       "      <td>650</td>\n",
       "      <td>29.0</td>\n",
       "      <td>80</td>\n",
       "      <td>21</td>\n",
       "      <td>10</td>\n",
       "      <td>23.0</td>\n",
       "      <td>0</td>\n",
       "      <td>0.0</td>\n",
       "      <td>High Protien Low Sugar Meal</td>\n",
       "    </tr>\n",
       "    <tr>\n",
       "      <th>134</th>\n",
       "      <td>135</td>\n",
       "      <td>Roasted Tomato &amp; Mozzarella Panini</td>\n",
       "      <td>Food</td>\n",
       "      <td>420</td>\n",
       "      <td>18.0</td>\n",
       "      <td>47</td>\n",
       "      <td>3</td>\n",
       "      <td>2</td>\n",
       "      <td>11.0</td>\n",
       "      <td>0</td>\n",
       "      <td>0.0</td>\n",
       "      <td>High Protien Low Sugar Meal</td>\n",
       "    </tr>\n",
       "    <tr>\n",
       "      <th>135</th>\n",
       "      <td>136</td>\n",
       "      <td>Turkey &amp; Havarti Sandwich</td>\n",
       "      <td>Food</td>\n",
       "      <td>460</td>\n",
       "      <td>21.0</td>\n",
       "      <td>31</td>\n",
       "      <td>2</td>\n",
       "      <td>2</td>\n",
       "      <td>29.0</td>\n",
       "      <td>0</td>\n",
       "      <td>0.0</td>\n",
       "      <td>High Protien Low Sugar Meal</td>\n",
       "    </tr>\n",
       "    <tr>\n",
       "      <th>136</th>\n",
       "      <td>137</td>\n",
       "      <td>Turkey Pesto Panini</td>\n",
       "      <td>Food</td>\n",
       "      <td>560</td>\n",
       "      <td>23.0</td>\n",
       "      <td>55</td>\n",
       "      <td>3</td>\n",
       "      <td>3</td>\n",
       "      <td>34.0</td>\n",
       "      <td>0</td>\n",
       "      <td>0.0</td>\n",
       "      <td>High Protien Low Sugar Meal</td>\n",
       "    </tr>\n",
       "    <tr>\n",
       "      <th>137</th>\n",
       "      <td>138</td>\n",
       "      <td>Berry Trio Yogurt</td>\n",
       "      <td>Food</td>\n",
       "      <td>240</td>\n",
       "      <td>2.5</td>\n",
       "      <td>39</td>\n",
       "      <td>3</td>\n",
       "      <td>26</td>\n",
       "      <td>14.0</td>\n",
       "      <td>0</td>\n",
       "      <td>4.0</td>\n",
       "      <td>Healthy Snack</td>\n",
       "    </tr>\n",
       "    <tr>\n",
       "      <th>138</th>\n",
       "      <td>139</td>\n",
       "      <td>Fresh Blueberries and Honey Greek Yogurt Parfait</td>\n",
       "      <td>Food</td>\n",
       "      <td>240</td>\n",
       "      <td>2.5</td>\n",
       "      <td>42</td>\n",
       "      <td>2</td>\n",
       "      <td>29</td>\n",
       "      <td>14.0</td>\n",
       "      <td>0</td>\n",
       "      <td>4.0</td>\n",
       "      <td>Healthy Snack</td>\n",
       "    </tr>\n",
       "    <tr>\n",
       "      <th>139</th>\n",
       "      <td>140</td>\n",
       "      <td>Justin's Chocolate Hazelnut Butter</td>\n",
       "      <td>Food</td>\n",
       "      <td>180</td>\n",
       "      <td>14.0</td>\n",
       "      <td>12</td>\n",
       "      <td>3</td>\n",
       "      <td>7</td>\n",
       "      <td>4.0</td>\n",
       "      <td>0</td>\n",
       "      <td>4.0</td>\n",
       "      <td>Healthy Snack</td>\n",
       "    </tr>\n",
       "    <tr>\n",
       "      <th>140</th>\n",
       "      <td>141</td>\n",
       "      <td>Justin's Classic Almond Butter</td>\n",
       "      <td>Food</td>\n",
       "      <td>190</td>\n",
       "      <td>18.0</td>\n",
       "      <td>6</td>\n",
       "      <td>3</td>\n",
       "      <td>1</td>\n",
       "      <td>7.0</td>\n",
       "      <td>0</td>\n",
       "      <td>4.0</td>\n",
       "      <td>Healthy Snack</td>\n",
       "    </tr>\n",
       "    <tr>\n",
       "      <th>141</th>\n",
       "      <td>142</td>\n",
       "      <td>Lemon Chiffon Yogurt</td>\n",
       "      <td>Food</td>\n",
       "      <td>340</td>\n",
       "      <td>13.0</td>\n",
       "      <td>38</td>\n",
       "      <td>0</td>\n",
       "      <td>35</td>\n",
       "      <td>18.0</td>\n",
       "      <td>0</td>\n",
       "      <td>1.0</td>\n",
       "      <td>Feel good snack</td>\n",
       "    </tr>\n",
       "    <tr>\n",
       "      <th>142</th>\n",
       "      <td>143</td>\n",
       "      <td>Organic Avocado (Spread)</td>\n",
       "      <td>Food</td>\n",
       "      <td>90</td>\n",
       "      <td>8.0</td>\n",
       "      <td>5</td>\n",
       "      <td>4</td>\n",
       "      <td>0</td>\n",
       "      <td>1.0</td>\n",
       "      <td>0</td>\n",
       "      <td>4.0</td>\n",
       "      <td>Healthy Snack</td>\n",
       "    </tr>\n",
       "    <tr>\n",
       "      <th>143</th>\n",
       "      <td>144</td>\n",
       "      <td>Seasonal Fruit Blend</td>\n",
       "      <td>Food</td>\n",
       "      <td>90</td>\n",
       "      <td>0.0</td>\n",
       "      <td>24</td>\n",
       "      <td>4</td>\n",
       "      <td>19</td>\n",
       "      <td>1.0</td>\n",
       "      <td>0</td>\n",
       "      <td>4.0</td>\n",
       "      <td>Healthy Snack</td>\n",
       "    </tr>\n",
       "  </tbody>\n",
       "</table>\n",
       "<p>144 rows × 12 columns</p>\n",
       "</div>"
      ],
      "text/plain": [
       "     Beverage_Id                                           Beverage      Type  \\\n",
       "0              1                                      Brewed Coffee  Beverage   \n",
       "1              2                                        CaffA Latte  Beverage   \n",
       "2              3                CaffA Mocha (Without Whipped Cream)  Beverage   \n",
       "3              4           Vanilla Latte (Or Other Flavoured Latte)  Beverage   \n",
       "4              5                                    CaffA Americano  Beverage   \n",
       "5              6                                         Cappuccino  Beverage   \n",
       "6              7                                           Espresso  Beverage   \n",
       "7              8                         Skinny Latte (Any Flavour)  Beverage   \n",
       "8              9                                  Caramel Macchiato  Beverage   \n",
       "9             10      White Chocolate Mocha (Without Whipped Cream)  Beverage   \n",
       "10            11              Hot Chocolate (Without Whipped Cream)  Beverage   \n",
       "11            12        Caramel Apple Spice (Without Whipped Cream)  Beverage   \n",
       "12            13                                          TazoA Tea  Beverage   \n",
       "13            14                               TazoA Chai Tea Latte  Beverage   \n",
       "14            15                              TazoA Green Tea Latte  Beverage   \n",
       "15            16                          TazoA Full-Leaf Tea Latte  Beverage   \n",
       "16            17    TazoA Full-Leaf Red Tea Latte (Vanilla Rooibos)  Beverage   \n",
       "17            18            Iced Brewed Coffee (With Classic Syrup)  Beverage   \n",
       "18            19     Iced Brewed Coffee (With Milk & Classic Syrup)  Beverage   \n",
       "19            20         Shaken Iced TazoA Tea (With Classic Syrup)  Beverage   \n",
       "20            21                          Banana Chocolate Smoothie  Beverage   \n",
       "21            22                       Orange Mango Banana Smoothie  Beverage   \n",
       "22            23                                             Coffee  Beverage   \n",
       "23            24                      Mocha (Without Whipped Cream)  Beverage   \n",
       "24            25                    Caramel (Without Whipped Cream)  Beverage   \n",
       "25            26                  Java Chip (Without Whipped Cream)  Beverage   \n",
       "26            27                                             Coffee  Beverage   \n",
       "27            28                                            Caramel  Beverage   \n",
       "28            29                                          Java Chip  Beverage   \n",
       "29            30      Strawberries & CrA me (Without Whipped Cream)  Beverage   \n",
       "..           ...                                                ...       ...   \n",
       "114          115                        Classic Whole-Grain Oatmeal      Food   \n",
       "115          116         Double-Smoked Bacon Cheddar & Egg Sandwich      Food   \n",
       "116          117                             Ham & Cheese Croissant      Food   \n",
       "117          118                           Hearty Blueberry Oatmeal      Food   \n",
       "118          119  Reduced-Fat Turkey Bacon & Cage Free Egg White...      Food   \n",
       "119          120           Sausage Cheddar & Egg Breakfast Sandwich      Food   \n",
       "120          121                  Seared Steak Egg & Tomatillo Wrap      Food   \n",
       "121          122    Slow-Roasted Ham Swiss & Egg Breakfast Sandwich      Food   \n",
       "122          123               Sous Vide Egg Bites: Bacon & Gruyere      Food   \n",
       "123          124        Sous Vide Egg Bites: Egg White & Red Pepper      Food   \n",
       "124          125  Spicy Chorizo  Monterey Jack & Egg Breakfast S...      Food   \n",
       "125          126  Spinach Feta & Cage Free Egg White Breakfast Wrap      Food   \n",
       "126          127                     Ancho Chipotle Chicken Panini       Food   \n",
       "127          128  Chicken & Quinoa Protein Bowl with Black Beans...      Food   \n",
       "128          129       Chicken Artichoke on Ancient Grain Flatbread      Food   \n",
       "129          130                         Chicken BLT Salad Sandwich      Food   \n",
       "130          131                                 Egg Salad Sandwich      Food   \n",
       "131          132            Homestyle Chicken & Double-Smoked Bacon      Food   \n",
       "132          133                   Italian-Style Ham & Spicy Salami      Food   \n",
       "133          134   Lentils & Vegetable Protein Bowl with Brown Rice      Food   \n",
       "134          135                 Roasted Tomato & Mozzarella Panini      Food   \n",
       "135          136                          Turkey & Havarti Sandwich      Food   \n",
       "136          137                                Turkey Pesto Panini      Food   \n",
       "137          138                                  Berry Trio Yogurt      Food   \n",
       "138          139   Fresh Blueberries and Honey Greek Yogurt Parfait      Food   \n",
       "139          140                 Justin's Chocolate Hazelnut Butter      Food   \n",
       "140          141                     Justin's Classic Almond Butter      Food   \n",
       "141          142                               Lemon Chiffon Yogurt      Food   \n",
       "142          143                           Organic Avocado (Spread)      Food   \n",
       "143          144                               Seasonal Fruit Blend      Food   \n",
       "\n",
       "     Calories   Fat  Carbohydrate  Fibre  Sugar  Protein  Caffeine  Cluster  \\\n",
       "0           5   0.1            10      0      0      1.0       330      2.0   \n",
       "1         190   7.0           170      0     17     12.0       150      3.0   \n",
       "2         260   8.0           140      2     34     13.0       175      3.0   \n",
       "3         250   6.0           150      0     35     12.0       150      3.0   \n",
       "4          15   0.0            15      0      0      1.0       225      2.0   \n",
       "5         120   4.0           100      0     10      8.0       150      2.0   \n",
       "6          10   0.0             1      0      0      1.0       150      2.0   \n",
       "7         120   0.3           160      0     16     12.0       150      3.0   \n",
       "8         240   7.0           150      0     32     10.0       150      3.0   \n",
       "9         400  11.0           250      0     58     15.0       150      3.0   \n",
       "10        290   9.0           160      2     41     14.0        25      3.0   \n",
       "11        280   0.0            20      0     65      0.0         0      3.0   \n",
       "12          0   0.0             0      0      0      0.0        50      2.0   \n",
       "13        240   4.5           115      0     42      8.0        95      3.0   \n",
       "14        350   8.0           180      1     55     14.0        80      3.0   \n",
       "15        190   4.0            95      0     30      7.0        50      3.0   \n",
       "16        190   4.0            95      0     30      7.0         0      3.0   \n",
       "17         90   0.1             5      0     21      0.3       165      2.0   \n",
       "18        120   1.5            35      0     24      2.0       125      2.0   \n",
       "19         80   0.0             0      0     21      0.0        50      2.0   \n",
       "20        300   5.0           160      7     34     20.0        15      3.0   \n",
       "21        270   1.5           125      6     37     16.0         0      3.0   \n",
       "22        240   3.0           220      0     50      3.0        95      3.0   \n",
       "23        290   4.0           220      1     58      4.0       110      3.0   \n",
       "24        280   3.5           220      0     59      3.0       100      3.0   \n",
       "25        340   7.0           250      2     62      5.0       110      3.0   \n",
       "26        120   0.1           210      0     26      3.0        95      3.0   \n",
       "27        150   0.1           200      0     32      3.0        90      3.0   \n",
       "28        220   4.0           240      2     39      5.0       105      3.0   \n",
       "29        260   4.0           190      0     52      4.0         0      3.0   \n",
       "..        ...   ...           ...    ...    ...      ...       ...      ...   \n",
       "114       160   2.5            28      4      0      5.0         0      4.0   \n",
       "115       490  27.0            40      1      8     21.0         0      0.0   \n",
       "116       320  17.0            28      1      5     14.0         0      4.0   \n",
       "117       220   2.5            43      5     13      5.0         0      4.0   \n",
       "118       230   6.0            28      2      2     16.0         0      4.0   \n",
       "119       500  28.0            41      1      2     15.0         0      0.0   \n",
       "120       410  18.0            43      2      4     21.0         0      0.0   \n",
       "121       450  23.0            42      1      7     24.0         0      0.0   \n",
       "122       310  22.0             9      0      2     19.0         0      0.0   \n",
       "123       170   7.0            13      1      2     13.0         0      4.0   \n",
       "124       500  30.0            35      3      5     26.0         0      0.0   \n",
       "125       290  10.0            33      6      5     19.0         0      4.0   \n",
       "126       500  19.0            57      4      3     26.0         0      0.0   \n",
       "127       420  17.0            42      9     11     27.0         0      0.0   \n",
       "128       510  27.0            37      5      1     24.0         0      0.0   \n",
       "129       470  25.0            35      3      3     21.0         0      0.0   \n",
       "130       480  27.0            42      7      5     16.0         0      0.0   \n",
       "131       480  17.0            57      3     11     23.0         0      0.0   \n",
       "132       480  20.0            49      3      3     22.0         0      0.0   \n",
       "133       650  29.0            80     21     10     23.0         0      0.0   \n",
       "134       420  18.0            47      3      2     11.0         0      0.0   \n",
       "135       460  21.0            31      2      2     29.0         0      0.0   \n",
       "136       560  23.0            55      3      3     34.0         0      0.0   \n",
       "137       240   2.5            39      3     26     14.0         0      4.0   \n",
       "138       240   2.5            42      2     29     14.0         0      4.0   \n",
       "139       180  14.0            12      3      7      4.0         0      4.0   \n",
       "140       190  18.0             6      3      1      7.0         0      4.0   \n",
       "141       340  13.0            38      0     35     18.0         0      1.0   \n",
       "142        90   8.0             5      4      0      1.0         0      4.0   \n",
       "143        90   0.0            24      4     19      1.0         0      4.0   \n",
       "\n",
       "                           Label  \n",
       "0                 Light Beverage  \n",
       "1                       Beverage  \n",
       "2                       Beverage  \n",
       "3                       Beverage  \n",
       "4                 Light Beverage  \n",
       "5                 Light Beverage  \n",
       "6                 Light Beverage  \n",
       "7                       Beverage  \n",
       "8                       Beverage  \n",
       "9                       Beverage  \n",
       "10                      Beverage  \n",
       "11                      Beverage  \n",
       "12                Light Beverage  \n",
       "13                      Beverage  \n",
       "14                      Beverage  \n",
       "15                      Beverage  \n",
       "16                      Beverage  \n",
       "17                Light Beverage  \n",
       "18                Light Beverage  \n",
       "19                Light Beverage  \n",
       "20                      Beverage  \n",
       "21                      Beverage  \n",
       "22                      Beverage  \n",
       "23                      Beverage  \n",
       "24                      Beverage  \n",
       "25                      Beverage  \n",
       "26                      Beverage  \n",
       "27                      Beverage  \n",
       "28                      Beverage  \n",
       "29                      Beverage  \n",
       "..                           ...  \n",
       "114                Healthy Snack  \n",
       "115  High Protien Low Sugar Meal  \n",
       "116                Healthy Snack  \n",
       "117                Healthy Snack  \n",
       "118                Healthy Snack  \n",
       "119  High Protien Low Sugar Meal  \n",
       "120  High Protien Low Sugar Meal  \n",
       "121  High Protien Low Sugar Meal  \n",
       "122  High Protien Low Sugar Meal  \n",
       "123                Healthy Snack  \n",
       "124  High Protien Low Sugar Meal  \n",
       "125                Healthy Snack  \n",
       "126  High Protien Low Sugar Meal  \n",
       "127  High Protien Low Sugar Meal  \n",
       "128  High Protien Low Sugar Meal  \n",
       "129  High Protien Low Sugar Meal  \n",
       "130  High Protien Low Sugar Meal  \n",
       "131  High Protien Low Sugar Meal  \n",
       "132  High Protien Low Sugar Meal  \n",
       "133  High Protien Low Sugar Meal  \n",
       "134  High Protien Low Sugar Meal  \n",
       "135  High Protien Low Sugar Meal  \n",
       "136  High Protien Low Sugar Meal  \n",
       "137                Healthy Snack  \n",
       "138                Healthy Snack  \n",
       "139                Healthy Snack  \n",
       "140                Healthy Snack  \n",
       "141              Feel good snack  \n",
       "142                Healthy Snack  \n",
       "143                Healthy Snack  \n",
       "\n",
       "[144 rows x 12 columns]"
      ]
     },
     "execution_count": 110,
     "metadata": {},
     "output_type": "execute_result"
    }
   ],
   "source": [
    "df"
   ]
  },
  {
   "cell_type": "code",
   "execution_count": 58,
   "metadata": {},
   "outputs": [],
   "source": [
    "df.to_csv('Resources/Starbucks_Menu_Clustered.csv')"
   ]
  },
  {
   "cell_type": "code",
   "execution_count": 59,
   "metadata": {},
   "outputs": [],
   "source": [
    "df_0 = df.loc[df['Cluster'] == 0] \n",
    "df_1 = df.loc[df['Cluster'] == 1] \n",
    "df_2 = df.loc[df['Cluster'] == 2] \n",
    "df_3 = df.loc[df['Cluster'] == 3] \n",
    "df_4 = df.loc[df['Cluster'] == 4] "
   ]
  },
  {
   "cell_type": "code",
   "execution_count": 103,
   "metadata": {},
   "outputs": [
    {
     "name": "stdout",
     "output_type": "stream",
     "text": [
      "Calories - Min, Max, Mean\n"
     ]
    },
    {
     "data": {
      "text/plain": [
       "(None, 310, 650, 476.6666666666667)"
      ]
     },
     "execution_count": 103,
     "metadata": {},
     "output_type": "execute_result"
    }
   ],
   "source": [
    "print(\"Calories - Min, Max, Mean\" ) , df_0['Calories'].min(), df_0['Calories'].max(), df_0['Calories'].mean()"
   ]
  },
  {
   "cell_type": "code",
   "execution_count": 61,
   "metadata": {},
   "outputs": [
    {
     "name": "stdout",
     "output_type": "stream",
     "text": [
      "Carbohydrate - Min, Max, Mean\n"
     ]
    },
    {
     "data": {
      "text/plain": [
       "(None, 9, 80, 44.638888888888886)"
      ]
     },
     "execution_count": 61,
     "metadata": {},
     "output_type": "execute_result"
    }
   ],
   "source": [
    "print(\"Carbohydrate - Min, Max, Mean\" ) ,df_0['Carbohydrate'].min() , df_0['Carbohydrate'].max(), df_0['Carbohydrate'].mean()"
   ]
  },
  {
   "cell_type": "code",
   "execution_count": 62,
   "metadata": {},
   "outputs": [
    {
     "name": "stdout",
     "output_type": "stream",
     "text": [
      "Fibre - Min, Max, Mean\n"
     ]
    },
    {
     "data": {
      "text/plain": [
       "(None, 0, 21, 4.666666666666667)"
      ]
     },
     "execution_count": 62,
     "metadata": {},
     "output_type": "execute_result"
    }
   ],
   "source": [
    "print(\"Fibre - Min, Max, Mean\" ) ,df_0['Fibre'].min() , df_0['Fibre'].max(), df_0['Fibre'].mean()"
   ]
  },
  {
   "cell_type": "code",
   "execution_count": 63,
   "metadata": {},
   "outputs": [
    {
     "name": "stdout",
     "output_type": "stream",
     "text": [
      "Sugar - Min, Max, Mean\n"
     ]
    },
    {
     "data": {
      "text/plain": [
       "(None, 1, 30, 9.166666666666666)"
      ]
     },
     "execution_count": 63,
     "metadata": {},
     "output_type": "execute_result"
    }
   ],
   "source": [
    "print(\"Sugar - Min, Max, Mean\" ) ,df_0['Sugar'].min() , df_0['Sugar'].max(), df_0['Sugar'].mean()"
   ]
  },
  {
   "cell_type": "code",
   "execution_count": 64,
   "metadata": {},
   "outputs": [
    {
     "name": "stdout",
     "output_type": "stream",
     "text": [
      "Caffeine - Min, Max, Mean\n"
     ]
    },
    {
     "data": {
      "text/plain": [
       "(None, 0, 0, 0.0)"
      ]
     },
     "execution_count": 64,
     "metadata": {},
     "output_type": "execute_result"
    }
   ],
   "source": [
    "print(\"Caffeine - Min, Max, Mean\" ) ,df_0['Caffeine'].min() , df_0['Caffeine'].max(), df_0['Caffeine'].mean()"
   ]
  },
  {
   "cell_type": "code",
   "execution_count": 65,
   "metadata": {},
   "outputs": [
    {
     "name": "stdout",
     "output_type": "stream",
     "text": [
      "Calories - Min, Max, Mean\n"
     ]
    },
    {
     "data": {
      "text/plain": [
       "(None, 300, 490, 389.14285714285717)"
      ]
     },
     "execution_count": 65,
     "metadata": {},
     "output_type": "execute_result"
    }
   ],
   "source": [
    "print(\"Calories - Min, Max, Mean\" ) , df_1['Calories'].min(), df_1['Calories'].max(), df_1['Calories'].mean()\n"
   ]
  },
  {
   "cell_type": "code",
   "execution_count": 66,
   "metadata": {},
   "outputs": [
    {
     "name": "stdout",
     "output_type": "stream",
     "text": [
      "Carbohydrate - Min, Max, Mean\n"
     ]
    },
    {
     "data": {
      "text/plain": [
       "(None, 36, 68, 50.114285714285714)"
      ]
     },
     "execution_count": 66,
     "metadata": {},
     "output_type": "execute_result"
    }
   ],
   "source": [
    "print(\"Carbohydrate - Min, Max, Mean\" ) ,df_1['Carbohydrate'].min() , df_1['Carbohydrate'].max(), df_1['Carbohydrate'].mean()"
   ]
  },
  {
   "cell_type": "code",
   "execution_count": 67,
   "metadata": {},
   "outputs": [
    {
     "name": "stdout",
     "output_type": "stream",
     "text": [
      "Fibre - Min, Max, Mean\n"
     ]
    },
    {
     "data": {
      "text/plain": [
       "(None, 0, 3, 1.5714285714285714)"
      ]
     },
     "execution_count": 67,
     "metadata": {},
     "output_type": "execute_result"
    }
   ],
   "source": [
    "print(\"Fibre - Min, Max, Mean\" ) ,df_1['Fibre'].min() , df_1['Fibre'].max(), df_1['Fibre'].mean()"
   ]
  },
  {
   "cell_type": "code",
   "execution_count": 68,
   "metadata": {},
   "outputs": [
    {
     "name": "stdout",
     "output_type": "stream",
     "text": [
      "Sugar - Min, Max, Mean\n"
     ]
    },
    {
     "data": {
      "text/plain": [
       "(None, 7, 43, 28.0)"
      ]
     },
     "execution_count": 68,
     "metadata": {},
     "output_type": "execute_result"
    }
   ],
   "source": [
    "print(\"Sugar - Min, Max, Mean\" ) ,df_1['Sugar'].min() , df_1['Sugar'].max(), df_1['Sugar'].mean()\n"
   ]
  },
  {
   "cell_type": "code",
   "execution_count": 69,
   "metadata": {},
   "outputs": [
    {
     "name": "stdout",
     "output_type": "stream",
     "text": [
      "Caffeine - Min, Max, Mean\n"
     ]
    },
    {
     "data": {
      "text/plain": [
       "(None, 0, 0, 0.0)"
      ]
     },
     "execution_count": 69,
     "metadata": {},
     "output_type": "execute_result"
    }
   ],
   "source": [
    "print(\"Caffeine - Min, Max, Mean\" ) ,df_1['Caffeine'].min() , df_1['Caffeine'].max(), df_1['Caffeine'].mean()"
   ]
  },
  {
   "cell_type": "code",
   "execution_count": 70,
   "metadata": {},
   "outputs": [
    {
     "name": "stdout",
     "output_type": "stream",
     "text": [
      "Calories - Min, Max, Mean\n"
     ]
    },
    {
     "data": {
      "text/plain": [
       "(None, 0, 120, 55.0)"
      ]
     },
     "execution_count": 70,
     "metadata": {},
     "output_type": "execute_result"
    }
   ],
   "source": [
    "print(\"Calories - Min, Max, Mean\" ) , df_2['Calories'].min(), df_2['Calories'].max(), df_2['Calories'].mean()"
   ]
  },
  {
   "cell_type": "code",
   "execution_count": 71,
   "metadata": {},
   "outputs": [
    {
     "name": "stdout",
     "output_type": "stream",
     "text": [
      "Carbohydrate - Min, Max, Mean\n"
     ]
    },
    {
     "data": {
      "text/plain": [
       "(None, 0, 100, 20.75)"
      ]
     },
     "execution_count": 71,
     "metadata": {},
     "output_type": "execute_result"
    }
   ],
   "source": [
    "print(\"Carbohydrate - Min, Max, Mean\" ) ,df_2['Carbohydrate'].min() , df_2['Carbohydrate'].max(), df_2['Carbohydrate'].mean()"
   ]
  },
  {
   "cell_type": "code",
   "execution_count": 72,
   "metadata": {},
   "outputs": [
    {
     "name": "stdout",
     "output_type": "stream",
     "text": [
      "Fibre - Min, Max, Mean\n"
     ]
    },
    {
     "data": {
      "text/plain": [
       "(None, 0, 0, 0.0)"
      ]
     },
     "execution_count": 72,
     "metadata": {},
     "output_type": "execute_result"
    }
   ],
   "source": [
    "print(\"Fibre - Min, Max, Mean\" ) ,df_2['Fibre'].min() , df_2['Fibre'].max(), df_2['Fibre'].mean()"
   ]
  },
  {
   "cell_type": "code",
   "execution_count": 73,
   "metadata": {},
   "outputs": [
    {
     "name": "stdout",
     "output_type": "stream",
     "text": [
      "Sugar - Min, Max, Mean\n"
     ]
    },
    {
     "data": {
      "text/plain": [
       "(None, 0, 24, 9.5)"
      ]
     },
     "execution_count": 73,
     "metadata": {},
     "output_type": "execute_result"
    }
   ],
   "source": [
    "print(\"Sugar - Min, Max, Mean\" ) ,df_2['Sugar'].min() , df_2['Sugar'].max(), df_2['Sugar'].mean()"
   ]
  },
  {
   "cell_type": "code",
   "execution_count": 74,
   "metadata": {},
   "outputs": [
    {
     "name": "stdout",
     "output_type": "stream",
     "text": [
      "Caffeine - Min, Max, Mean\n"
     ]
    },
    {
     "data": {
      "text/plain": [
       "(None, 50, 330, 155.625)"
      ]
     },
     "execution_count": 74,
     "metadata": {},
     "output_type": "execute_result"
    }
   ],
   "source": [
    "print(\"Caffeine - Min, Max, Mean\" ) ,df_2['Caffeine'].min() , df_2['Caffeine'].max(), df_2['Caffeine'].mean()"
   ]
  },
  {
   "cell_type": "code",
   "execution_count": 75,
   "metadata": {},
   "outputs": [
    {
     "name": "stdout",
     "output_type": "stream",
     "text": [
      "Calories - Min, Max, Mean\n"
     ]
    },
    {
     "data": {
      "text/plain": [
       "(None, 120, 400, 248.2608695652174)"
      ]
     },
     "execution_count": 75,
     "metadata": {},
     "output_type": "execute_result"
    }
   ],
   "source": [
    "print(\"Calories - Min, Max, Mean\" ) , df_3['Calories'].min(), df_3['Calories'].max(), df_3['Calories'].mean()"
   ]
  },
  {
   "cell_type": "code",
   "execution_count": 76,
   "metadata": {},
   "outputs": [
    {
     "name": "stdout",
     "output_type": "stream",
     "text": [
      "Carbohydrate - Min, Max, Mean\n"
     ]
    },
    {
     "data": {
      "text/plain": [
       "(None, 20, 250, 171.7391304347826)"
      ]
     },
     "execution_count": 76,
     "metadata": {},
     "output_type": "execute_result"
    }
   ],
   "source": [
    "print(\"Carbohydrate - Min, Max, Mean\" ) ,df_3['Carbohydrate'].min() , df_3['Carbohydrate'].max(), df_3['Carbohydrate'].mean()"
   ]
  },
  {
   "cell_type": "code",
   "execution_count": 77,
   "metadata": {},
   "outputs": [
    {
     "name": "stdout",
     "output_type": "stream",
     "text": [
      "Fibre - Min, Max, Mean\n"
     ]
    },
    {
     "data": {
      "text/plain": [
       "(None, 0, 7, 1.0)"
      ]
     },
     "execution_count": 77,
     "metadata": {},
     "output_type": "execute_result"
    }
   ],
   "source": [
    "print(\"Fibre - Min, Max, Mean\" ) ,df_3['Fibre'].min() , df_3['Fibre'].max(), df_3['Fibre'].mean()"
   ]
  },
  {
   "cell_type": "code",
   "execution_count": 78,
   "metadata": {},
   "outputs": [
    {
     "name": "stdout",
     "output_type": "stream",
     "text": [
      "Sugar - Min, Max, Mean\n"
     ]
    },
    {
     "data": {
      "text/plain": [
       "(None, 16, 65, 41.69565217391305)"
      ]
     },
     "execution_count": 78,
     "metadata": {},
     "output_type": "execute_result"
    }
   ],
   "source": [
    "print(\"Sugar - Min, Max, Mean\" ) ,df_3['Sugar'].min() , df_3['Sugar'].max(), df_3['Sugar'].mean()"
   ]
  },
  {
   "cell_type": "code",
   "execution_count": 79,
   "metadata": {},
   "outputs": [
    {
     "name": "stdout",
     "output_type": "stream",
     "text": [
      "Caffeine - Min, Max, Mean\n"
     ]
    },
    {
     "data": {
      "text/plain": [
       "(None, 0, 175, 82.3913043478261)"
      ]
     },
     "execution_count": 79,
     "metadata": {},
     "output_type": "execute_result"
    }
   ],
   "source": [
    "print(\"Caffeine - Min, Max, Mean\" ) ,df_3['Caffeine'].min() , df_3['Caffeine'].max(), df_3['Caffeine'].mean()"
   ]
  },
  {
   "cell_type": "code",
   "execution_count": 80,
   "metadata": {},
   "outputs": [
    {
     "name": "stdout",
     "output_type": "stream",
     "text": [
      "Calories - Min, Max, Mean\n"
     ]
    },
    {
     "data": {
      "text/plain": [
       "(None, 90, 380, 226.66666666666666)"
      ]
     },
     "execution_count": 80,
     "metadata": {},
     "output_type": "execute_result"
    }
   ],
   "source": [
    "print(\"Calories - Min, Max, Mean\" ) , df_4['Calories'].min(), df_4['Calories'].max(), df_4['Calories'].mean()"
   ]
  },
  {
   "cell_type": "code",
   "execution_count": 81,
   "metadata": {},
   "outputs": [
    {
     "name": "stdout",
     "output_type": "stream",
     "text": [
      "Carbohydrate - Min, Max, Mean\n"
     ]
    },
    {
     "data": {
      "text/plain": [
       "(None, 5, 70, 31.595238095238095)"
      ]
     },
     "execution_count": 81,
     "metadata": {},
     "output_type": "execute_result"
    }
   ],
   "source": [
    "print(\"Carbohydrate - Min, Max, Mean\" ) ,df_4['Carbohydrate'].min() , df_4['Carbohydrate'].max(), df_4['Carbohydrate'].mean()\n"
   ]
  },
  {
   "cell_type": "code",
   "execution_count": 82,
   "metadata": {},
   "outputs": [
    {
     "name": "stdout",
     "output_type": "stream",
     "text": [
      "Fibre - Min, Max, Mean\n"
     ]
    },
    {
     "data": {
      "text/plain": [
       "(None, 0, 8, 2.357142857142857)"
      ]
     },
     "execution_count": 82,
     "metadata": {},
     "output_type": "execute_result"
    }
   ],
   "source": [
    "print(\"Fibre - Min, Max, Mean\" ) ,df_4['Fibre'].min() , df_4['Fibre'].max(), df_4['Fibre'].mean()"
   ]
  },
  {
   "cell_type": "code",
   "execution_count": 83,
   "metadata": {},
   "outputs": [
    {
     "name": "stdout",
     "output_type": "stream",
     "text": [
      "Sugar - Min, Max, Mean\n"
     ]
    },
    {
     "data": {
      "text/plain": [
       "(None, 0, 29, 9.571428571428571)"
      ]
     },
     "execution_count": 83,
     "metadata": {},
     "output_type": "execute_result"
    }
   ],
   "source": [
    "print(\"Sugar - Min, Max, Mean\" ) ,df_4['Sugar'].min() , df_4['Sugar'].max(), df_4['Sugar'].mean()"
   ]
  },
  {
   "cell_type": "code",
   "execution_count": 84,
   "metadata": {},
   "outputs": [
    {
     "name": "stdout",
     "output_type": "stream",
     "text": [
      "Caffeine - Min, Max, Mean\n"
     ]
    },
    {
     "data": {
      "text/plain": [
       "(None, 0, 0, 0.0)"
      ]
     },
     "execution_count": 84,
     "metadata": {},
     "output_type": "execute_result"
    }
   ],
   "source": [
    "print(\"Caffeine - Min, Max, Mean\" ) ,df_4['Caffeine'].min() , df_4['Caffeine'].max(), df_4['Caffeine'].mean()"
   ]
  },
  {
   "cell_type": "code",
   "execution_count": 195,
   "metadata": {},
   "outputs": [
    {
     "name": "stdout",
     "output_type": "stream",
     "text": [
      "Error Brewed Coffee https://www.starbucks.com/menu/drinks/brewed-coffee\n",
      "Error Espresso https://www.starbucks.com/menu/drinks/espresso\n",
      "Error Caramel Macchiato https://www.starbucks.com/coffee/espresso/caramel-macchiato-beverages\n",
      "Error TazoA Tea https://www.usatoday.com/story/money/2017/11/02/starbucks-sells-tazo-tea-brand-univeler-focuses-teavana-instead/826529001/\n",
      "Error TazoA Full-Leaf Tea Latte https://www.republicoftea.com/mate-latte-full-leaf/p/v00689/\n",
      "Error Shaken Iced TazoA Tea (With Classic Syrup) https://delishably.com/dining-out/Starbucks-Drink-Guide-Iced-Teas\n",
      "Error Coffee https://www.starbucks.com/\n",
      "Error Coffee https://www.starbucks.com/\n",
      "Error Cranberry Orange Scone https://www.laurafuentes.com/copycat-starbucks-cranberry-orange-scone-recipe/\n",
      "Error Octopus Cookie https://www.reddit.com/r/ExpectationVsReality/comments/6e3tru/starbucks_octopus_cookie/\n",
      "Error Pirate Cake Pop https://www.youtube.com/watch?v=0fX7OM6N_B4\n",
      "Error Italian-Style Ham & Spicy Salami https://www.brandeating.com/2016/08/review-starbucks-italian-style-ham-spicy-salami-sandwich.html\n"
     ]
    }
   ],
   "source": [
    "#i = 0 \n",
    "\n",
    "for index , row in df.iterrows():\n",
    "    #i = i + 1    \n",
    "    bev = row['Beverage']    \n",
    "    query = \"Starbucks\" + bev    \n",
    "    \n",
    "    #if i < 10:\n",
    "    for url in search(query, tld=\"co.in\", num=1, start = 0, stop=1, pause=3): \n",
    "        #print(url)  \n",
    "        df.loc[df['Beverage'] == bev, 'item_url'] = url\n",
    "        try:\n",
    "            executable_path = {'executable_path': 'chromedriver.exe'}\n",
    "            browser = Browser('chrome', **executable_path, headless=True)\n",
    "            browser.visit(url)\n",
    "            html = browser.html\n",
    "            sb_menu = BeautifulSoup(html, 'html.parser')\n",
    "            sb_menu_div = sb_menu.find('div', attrs={\"class\": \"region size1of3\"})\n",
    "            pic_url = \"https:\" + sb_menu_div.find('p').find('img')['src']\n",
    "            df.loc[df['Beverage'] == bev, 'image_url'] = pic_url\n",
    "        except:\n",
    "            print(\"Error \" + bev + ' ' + url )\n",
    "            \n",
    "    "
   ]
  },
  {
   "cell_type": "code",
   "execution_count": 196,
   "metadata": {},
   "outputs": [
    {
     "data": {
      "text/plain": [
       "<pymongo.results.InsertManyResult at 0x26d09833188>"
      ]
     },
     "execution_count": 196,
     "metadata": {},
     "output_type": "execute_result"
    }
   ],
   "source": [
    "# Initialize PyMongo to work with MongoDBs\n",
    "conn = 'mongodb://localhost:27017'\n",
    "client = pymongo.MongoClient(conn)\n",
    "\n",
    "# Define database and collection\n",
    "db = client.sb_menu_db\n",
    "collection = db.menu_cluster\n",
    "collection.drop()\n",
    "\n",
    "records = json.loads(df.T.to_json()).values()\n",
    "collection.insert_many(records)"
   ]
  },
  {
   "cell_type": "code",
   "execution_count": null,
   "metadata": {},
   "outputs": [],
   "source": []
  }
 ],
 "metadata": {
  "kernelspec": {
   "display_name": "Python (PythonData)",
   "language": "python",
   "name": "pythondata"
  },
  "language_info": {
   "codemirror_mode": {
    "name": "ipython",
    "version": 3
   },
   "file_extension": ".py",
   "mimetype": "text/x-python",
   "name": "python",
   "nbconvert_exporter": "python",
   "pygments_lexer": "ipython3",
   "version": "3.7.2"
  }
 },
 "nbformat": 4,
 "nbformat_minor": 2
}
